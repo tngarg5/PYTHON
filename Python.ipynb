{
  "nbformat": 4,
  "nbformat_minor": 0,
  "metadata": {
    "colab": {
      "provenance": []
    },
    "kernelspec": {
      "name": "python3",
      "display_name": "Python 3"
    },
    "language_info": {
      "name": "python"
    }
  },
  "cells": [
    {
      "cell_type": "code",
      "execution_count": null,
      "metadata": {
        "colab": {
          "base_uri": "https://localhost:8080/"
        },
        "id": "4O8UqD7e0-r9",
        "outputId": "74c0b41e-db35-4fd0-dbde-77d3ce0ef298"
      },
      "outputs": [
        {
          "output_type": "stream",
          "name": "stdout",
          "text": [
            "4 <class 'int'>\n",
            "True <class 'bool'>\n",
            "3.7 <class 'float'>\n",
            "This is a string <class 'str'>\n"
          ]
        }
      ],
      "source": [
        "x = 4              # integer\n",
        "print(x, type(x))\n",
        "\n",
        "y = True           # boolean (True, False)\n",
        "print(y, type(y))\n",
        "\n",
        "z = 3.7            # floating point\n",
        "print(z, type(z))\n",
        "\n",
        "s = \"This is a string\"    # string\n",
        "print(s, type(s))"
      ]
    },
    {
      "cell_type": "code",
      "source": [
        "z = 3.7 \n",
        "z3 = z // 3      # integer division\n",
        "z3"
      ],
      "metadata": {
        "colab": {
          "base_uri": "https://localhost:8080/"
        },
        "id": "rqiXEZAu1Rp7",
        "outputId": "f0f7bd63-ab93-4a8b-8ab8-ba646de38070"
      },
      "execution_count": null,
      "outputs": [
        {
          "output_type": "execute_result",
          "data": {
            "text/plain": [
              "1.0"
            ]
          },
          "metadata": {},
          "execution_count": 3
        }
      ]
    },
    {
      "cell_type": "code",
      "source": [
        "import math\n",
        "\n",
        "x = 4\n",
        "print(math.sqrt(x))      # sqrt(4) = 2\n",
        "print(math.pow(x,2))     # 4**2 = 16\n",
        "print(math.exp(x))       # exp(4) = 54.6\n",
        "print(math.log(x,2))     # log based 2  (default is natural logarithm)\n",
        "print(math.fabs(-4))     # absolute value\n",
        "print(math.factorial(x)) # 4! = 4 x 3 x 2 x 1 = 24\n",
        "\n",
        "z = 0.2\n",
        "print(math.ceil(z))      # ceiling function\n",
        "print(math.floor(z))     # floor function\n",
        "print(math.trunc(z))     # truncate function\n",
        "\n",
        "z = 3*math.pi            # math.pi = 3.141592653589793 \n",
        "print(math.sin(z))       # sine function\n",
        "print(math.tanh(z))      # arctan function\n",
        "\n",
        "x = math.nan             # not a number\n",
        "print(math.isnan(x))\n",
        "\n",
        "x = math.inf             # infinity\n",
        "print(math.isinf(x))"
      ],
      "metadata": {
        "colab": {
          "base_uri": "https://localhost:8080/"
        },
        "id": "aladkFWa1eQh",
        "outputId": "8bbb6a62-8845-4dd7-eae1-14a76f7a9b08"
      },
      "execution_count": null,
      "outputs": [
        {
          "output_type": "stream",
          "name": "stdout",
          "text": [
            "2.0\n",
            "16.0\n",
            "54.598150033144236\n",
            "2.0\n",
            "4.0\n",
            "24\n",
            "1\n",
            "0\n",
            "0\n",
            "3.6739403974420594e-16\n",
            "0.9999999869751758\n",
            "True\n",
            "True\n"
          ]
        }
      ]
    },
    {
      "cell_type": "code",
      "source": [
        "y1 = True\n",
        "y2 = False\n",
        "\n",
        "print(y1 and y2)       # logical AND\n",
        "print(y1 or y2)        # logical OR\n",
        "print(y1 and not y2)   # logical NOT"
      ],
      "metadata": {
        "colab": {
          "base_uri": "https://localhost:8080/"
        },
        "id": "p6W4_mxR15rv",
        "outputId": "6b1ad647-cde9-4d65-c814-ba2d7ff81e42"
      },
      "execution_count": null,
      "outputs": [
        {
          "output_type": "stream",
          "name": "stdout",
          "text": [
            "False\n",
            "True\n",
            "True\n"
          ]
        }
      ]
    },
    {
      "cell_type": "code",
      "source": [
        "s1 = \"This\"\n",
        "\n",
        "print(s1[1:])                    # print last three characters \n",
        "print(len(s1))                               # get the string length\n",
        "print(\"Length of string is \" + str(len(s1))) # type casting int to str\n",
        "print(s1.upper())                            # convert to upper case\n",
        "print(s1.lower())                            # convert to lower case\n",
        "\n",
        "s2 = \"This is a string\"\n",
        "words = s2.split(' ')             # split the string into words\n",
        "print(words[0])\n",
        "print(s2.replace('a','another'))  # replace \"a\" with \"another\"\n",
        "print(s2.replace('is','at'))      # replace \"is\" with \"at\"\n",
        "print(s2.find(\"a\"))               # find the position of \"a\" in s2\n",
        "print(s1 in s2)                   # check if s1 is a substring of s2\n",
        "\n",
        "print(s1 == 'This')               # equality comparison\n",
        "print(s1 < 'That')                # inequality comparison\n",
        "print(s2 + \" too\")                # string concatenation\n",
        "print((s1 + \" \")* 3)              # replicate the string 3 times"
      ],
      "metadata": {
        "colab": {
          "base_uri": "https://localhost:8080/"
        },
        "id": "HXxJBEUP2F4G",
        "outputId": "0a72a01e-e9ea-46bd-8b77-58528d2b5ab1"
      },
      "execution_count": null,
      "outputs": [
        {
          "output_type": "stream",
          "name": "stdout",
          "text": [
            "his\n",
            "4\n",
            "Length of string is 4\n",
            "THIS\n",
            "this\n",
            "This\n",
            "This is another string\n",
            "That at a string\n",
            "8\n",
            "True\n",
            "True\n",
            "False\n",
            "This is a string too\n",
            "This This This \n"
          ]
        }
      ]
    },
    {
      "cell_type": "code",
      "source": [
        "intlist = [1, 3, 5, 7, 9]\n",
        "print(type(intlist))\n",
        "print(intlist)\n",
        "intlist2 = list(range(0,10,2))   # range[startvalue, endvalue, stepsize]\n",
        "print(intlist2)\n",
        "\n",
        "print(intlist[2])                # get the third element of the list\n",
        "print(intlist[:2])               # get the first two elements\n",
        "print(intlist[2:])               # get the last three elements of the list\n",
        "print(len(intlist))              # get the number of elements in the list\n",
        "print(sum(intlist))              # sums up elements of the list\n",
        "\n",
        "intlist.append(11)               # insert 11 to end of the list\n",
        "print(intlist)\n",
        "print(intlist.pop())             # remove last element of the list\n",
        "print(intlist)\n",
        "print(intlist + [11,13,15])      # concatenate two lists\n",
        "print(intlist * 3)               # replicate the list\n",
        "intlist.insert(2,4)              # insert item 4 at index 2  \n",
        "print(intlist)\n",
        "intlist.sort(reverse=True)       # sort elements in descending order\n",
        "print(intlist)"
      ],
      "metadata": {
        "colab": {
          "base_uri": "https://localhost:8080/"
        },
        "id": "-xqbjjoh22X3",
        "outputId": "5eed19ed-d239-49a1-c039-3185e4c58033"
      },
      "execution_count": null,
      "outputs": [
        {
          "output_type": "stream",
          "name": "stdout",
          "text": [
            "<class 'list'>\n",
            "[1, 3, 5, 7, 9]\n",
            "[0, 2, 4, 6, 8]\n",
            "5\n",
            "[1, 3]\n",
            "[5, 7, 9]\n",
            "5\n",
            "25\n",
            "[1, 3, 5, 7, 9, 11]\n",
            "11\n",
            "[1, 3, 5, 7, 9]\n",
            "[1, 3, 5, 7, 9, 11, 13, 15]\n",
            "[1, 3, 5, 7, 9, 1, 3, 5, 7, 9, 1, 3, 5, 7, 9]\n",
            "[1, 3, 4, 5, 7, 9]\n",
            "[9, 7, 5, 4, 3, 1]\n"
          ]
        }
      ]
    },
    {
      "cell_type": "code",
      "source": [
        "mylist = ['this', 'is', 'a', 'list']\n",
        "print(mylist)\n",
        "print(type(mylist))\n",
        "\n",
        "print(\"list\" in mylist)          # check whether \"list\" is in mylist\n",
        "print(mylist[2])                 # show the 3rd element of the list\n",
        "print(mylist[:2])                # show the first two elements of the list\n",
        "print(mylist[2:])                # show the last two elements of the list\n",
        "mylist.append(\"too\")             # insert element to end of the list\n",
        "\n",
        "separator = \" \"\n",
        "print(separator.join(mylist))    # merge all elements of the list into a string\n",
        "\n",
        "mylist.remove(\"is\")              # remove element from list\n",
        "print(mylist)"
      ],
      "metadata": {
        "colab": {
          "base_uri": "https://localhost:8080/"
        },
        "id": "yvIX3KjS3tfR",
        "outputId": "67ad7771-6825-4736-9526-0acd0b861e7b"
      },
      "execution_count": null,
      "outputs": [
        {
          "output_type": "stream",
          "name": "stdout",
          "text": [
            "['this', 'is', 'a', 'list']\n",
            "<class 'list'>\n",
            "True\n",
            "a\n",
            "['this', 'is']\n",
            "['a', 'list']\n",
            "this is a list too\n",
            "['this', 'a', 'list', 'too']\n"
          ]
        }
      ]
    },
    {
      "cell_type": "code",
      "source": [
        "abbrev = {}\n",
        "abbrev['MI'] = \"Michigan\"\n",
        "abbrev['MN'] = \"Minnesota\"\n",
        "abbrev['TX'] = \"Texas\"\n",
        "abbrev['CA'] = \"California\"\n",
        "\n",
        "print(abbrev)\n",
        "print(abbrev.keys())            # get the keys of the dictionary\n",
        "print(abbrev.values())          # get the values of the dictionary\n",
        "print(len(abbrev))              # get number of key-value pairs\n",
        "\n",
        "print(abbrev.get('MI'))\n",
        "print(\"FL\" in abbrev)\n",
        "print(\"CA\" in abbrev)\n",
        "\n",
        "keys = ['apples', 'oranges', 'bananas', 'cherries']\n",
        "values = [3, 4, 2, 10]\n",
        "fruits = dict(zip(keys, values))\n",
        "print(fruits)\n",
        "print(sorted(fruits))     # sort keys of dictionary\n",
        "\n",
        "from operator import itemgetter\n",
        "print(sorted(fruits.items(), key=itemgetter(0)))    # sort by key of dictionary\n",
        "print(sorted(fruits.items(), key=itemgetter(1)))    # sort by value of dictionary"
      ],
      "metadata": {
        "colab": {
          "base_uri": "https://localhost:8080/"
        },
        "id": "Pgm-PMpU4FrL",
        "outputId": "836f9538-92cc-403b-ce6f-f1c04f8ee1af"
      },
      "execution_count": null,
      "outputs": [
        {
          "output_type": "stream",
          "name": "stdout",
          "text": [
            "{'MI': 'Michigan', 'MN': 'Minnesota', 'TX': 'Texas', 'CA': 'California'}\n",
            "dict_keys(['MI', 'MN', 'TX', 'CA'])\n",
            "dict_values(['Michigan', 'Minnesota', 'Texas', 'California'])\n",
            "4\n",
            "Michigan\n",
            "False\n",
            "True\n",
            "{'apples': 3, 'oranges': 4, 'bananas': 2, 'cherries': 10}\n",
            "['apples', 'bananas', 'cherries', 'oranges']\n",
            "[('apples', 3), ('bananas', 2), ('cherries', 10), ('oranges', 4)]\n",
            "[('bananas', 2), ('apples', 3), ('oranges', 4), ('cherries', 10)]\n"
          ]
        }
      ]
    },
    {
      "cell_type": "code",
      "source": [
        "# using for loop with a list\n",
        "\n",
        "mylist = ['this', 'is', 'a', 'list']\n",
        "for word in mylist:\n",
        "    print(word.replace(\"is\", \"at\"))\n",
        "    \n",
        "mylist2 = [len(word) for word in mylist]   # number of characters in each word\n",
        "print(mylist2)\n",
        "\n",
        "# using for loop with list of tuples\n",
        "\n",
        "states = [('MI', 'Michigan', 'Lansing'),('CA', 'California', 'Sacramento'),\n",
        "          ('TX', 'Texas', 'Austin')]\n",
        "\n",
        "sorted_capitals = [state[2] for state in states]\n",
        "sorted_capitals.sort()\n",
        "print(sorted_capitals)\n",
        "\n",
        "# using for loop with dictionary\n",
        "\n",
        "fruits = {'apples': 3, 'oranges': 4, 'bananas': 2, 'cherries': 10}\n",
        "fruitnames = [k for (k,v) in fruits.items()]\n",
        "print(fruitnames)"
      ],
      "metadata": {
        "colab": {
          "base_uri": "https://localhost:8080/"
        },
        "id": "_OvkW0xPHrRy",
        "outputId": "51ca85c4-7558-439f-cce2-45a289158ae5"
      },
      "execution_count": null,
      "outputs": [
        {
          "output_type": "stream",
          "name": "stdout",
          "text": [
            "that\n",
            "at\n",
            "a\n",
            "latt\n",
            "[4, 2, 1, 4]\n",
            "['Austin', 'Lansing', 'Sacramento']\n",
            "['apples', 'oranges', 'bananas', 'cherries']\n"
          ]
        }
      ]
    },
    {
      "cell_type": "code",
      "source": [
        "# using for loop with a list\n",
        "\n",
        "mylist = ['this', 'is', 'a', 'list']\n",
        "for word in mylist:\n",
        "    print(word.replace(\"is\", \"at\"))\n",
        "    \n",
        "mylist2 = [len(word) for word in mylist]   # number of characters in each word\n",
        "print(mylist2)\n",
        "\n",
        "# using for loop with list of tuples\n",
        "\n",
        "states = [('MI', 'Michigan', 'Lansing'),('CA', 'California', 'Sacramento'),\n",
        "          ('TX', 'Texas', 'Austin')]\n",
        "\n",
        "sorted_capitals = [state[2] for state in states]\n",
        "sorted_capitals.sort()\n",
        "print(sorted_capitals)\n",
        "\n",
        "# using for loop with dictionary\n",
        "\n",
        "fruits = {'apples': 3, 'oranges': 4, 'bananas': 2, 'cherries': 10}\n",
        "fruitnames = [k for (k,v) in fruits.items()]\n",
        "print(fruitnames)"
      ],
      "metadata": {
        "colab": {
          "base_uri": "https://localhost:8080/"
        },
        "id": "iHaGxdhgO2lp",
        "outputId": "0596af56-f5ce-47f9-ad1a-0c5fa65afb88"
      },
      "execution_count": null,
      "outputs": [
        {
          "output_type": "stream",
          "name": "stdout",
          "text": [
            "that\n",
            "at\n",
            "a\n",
            "latt\n",
            "[4, 2, 1, 4]\n",
            "['Austin', 'Lansing', 'Sacramento']\n",
            "['apples', 'oranges', 'bananas', 'cherries']\n"
          ]
        }
      ]
    }
  ]
}